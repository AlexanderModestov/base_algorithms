{
  "cells": [
    {
      "metadata": {},
      "cell_type": "markdown",
      "source": "# Основы машинного обучения"
    },
    {
      "metadata": {},
      "cell_type": "markdown",
      "source": "### Где применяется машинное обучение:\n\n* обнаружение аномалий, например, ненормальное поведение клиента, мошенничества;\n\n* персонализированный маркетинг — электронные рассылки, ретаргетинг, системы рекомендаций;\n\n* количественные прогнозы — показатели эффективности, качество рекламных кампаний и других мероприятий;\n\n* скоринговые системы — обработка больших объемов данных, помощь в принятии решений, например, о предоставлении кредита;\n\n* базовое взаимодействие с клиентом — стандартные ответы в чатах, голосовые помощники, сортировка писем по папкам."
    },
    {
      "metadata": {},
      "cell_type": "markdown",
      "source": "### Пять основных этапов в работе с данными:\n    \n* Сбор. Поиск каналов, где можно собирать данные, и выбор методов их получения.\n\n* Проверка. Валидация, нивелирование аномалий, которые не влияют на результат и мешают дальнейшему анализу.\n\n* Анализ. Изучение данных, подтверждение предположений.\n\n* Визуализация. Представление информации в понятном для восприятия виде: графики, диаграммы.\n\n* Реакция. Принятие решений на основе данных. Например, изменение маркетинговой стратегии, увеличение бюджета компании."
    },
    {
      "metadata": {},
      "cell_type": "markdown",
      "source": "### Первый шаг в изучении машинного обучения — знакомство с тремя его основными формами.\n\n1) Обучение с учителем — наиболее развитая форма машинного обу­че­ния. Идея в том, что­бы на ос­но­ве ис­то­ри­че­ских дан­ных, для ко­то­рых нам из­вест­ны «пра­виль­ные» зна­че­ния (це­ле­вые мет­ки), по­стро­ить функ­цию, пред­ска­зы­ва­ю­щую це­ле­вые мет­ки для но­вых дан­ных. Ис­то­ри­че­ские дан­ные про­мар­ки­ро­ва­ны. Мар­ки­ров­ка (от­не­се­ние к ка­ко­му-либо клас­су) озна­ча­ет, что у вас есть осо­бое вы­ход­ное зна­че­ние для каж­дой стро­ки дан­ных. В этом и за­клю­ча­ет­ся суть ал­го­рит­ма.\n\n2) Обу­че­ние без учи­те­ля. У нас нет про­мар­ки­ро­ван­ных пе­ре­мен­ных, а есть мно­го необ­ра­бо­тан­ных дан­ных. Это поз­во­ля­ет иден­ти­фи­ци­ро­вать то, что на­зы­ва­ет­ся за­ко­но­мер­но­стя­ми в ис­то­ри­че­ских вход­ных дан­ных, а та­к­же сде­лать ин­те­рес­ные вы­во­ды из об­щей пер­спек­ти­вы. Итак, вы­ход­ные дан­ные здесь от­сут­ству­ют, есть толь­ко шаб­лон, ви­ди­мый в некон­тро­ли­ру­е­мом на­бо­ре вход­ных дан­ных. Пре­лесть обу­че­ния без учи­те­ля в том, что оно под­да­ет­ся мно­го­чис­лен­ным ком­би­на­ци­ям шаб­ло­нов, по­это­му та­кие ал­го­рит­мы слож­нее.\n\n3) Обу­че­ние с под­креп­ле­ни­ем при­ме­ня­ет­ся, ко­гда у вас есть ал­го­ритм с при­ме­ра­ми, в ко­то­рых от­сут­ству­ет мар­ки­ров­ка, как при некон­тро­ли­ру­е­мом обу­че­нии. Од­на­ко вы мо­же­те до­пол­нить при­мер по­ло­жи­тель­ны­ми или от­ри­ца­тель­ны­ми от­кли­ка­ми в со­от­вет­ствии с ре­ше­ни­я­ми, пред­ла­га­е­мы­ми ал­го­рит­мом. Обу­че­ние с под­креп­ле­ни­ем свя­за­но с при­ло­же­ни­я­ми, для ко­то­рых ал­го­ритм дол­жен при­ни­мать ре­ше­ния, име­ю­щие по­след­ствия. Это по­хо­же на обу­че­ние ме­то­дом проб и оши­бок. Ин­те­рес­ный при­мер обу­че­ния с под­креп­ле­ни­ем — ко­гда ком­пью­те­ры учат­ся са­мо­сто­я­тель­но иг­рать в ви­део­иг­ры."
    },
    {
      "metadata": {},
      "cell_type": "markdown",
      "source": "### Основные шаги решения задачи машинного обучения:\n\n\n* Постановка задачи и выбор алгоритма/алгоритмов:\n    * Типы задач: задача обучения с учителем, задача обучения без учителя\n    * Выбор алгоритмов машинного обучения, которые подходят для решения данной задачи:\n        * Линейные методы\n        * Логические методы\n        * Выбор метрик для оценки качества модели\n* Загрузка и предобработка данных:\n    * Загрузка данных из различных источников: БД, плоские файлы, нереляционные БД\n    * Предобработка данных: заполнение пропусков, кодирование данных, устранение выбросов\n    * Расчет статистики по датасету: выделение разных типов данных (категориальные, вещественные)\n* Обучение модели и валидация качества модели:\n    * Разбиение на обучающую и тестовую выборки\n    * Кросс-валидация\n* Оценка метрики"
    },
    {
      "metadata": {},
      "cell_type": "markdown",
      "source": "### Примеры метрик: \n    \n* Accuracy \n* Precision \n* Recall\n* F1\n* F2\n* AUC-ROC \n* AUC-PR"
    },
    {
      "metadata": {},
      "cell_type": "markdown",
      "source": "Обозначения:\n\n## Матрица ошибок: \n\n|      | Фактическая 1 | Фактический 0|\n|------|----------------|---------------|\n|Значение, выдаваемое моделью 1|True Positive|False positive|\n|Значение, выдаваемое моделью 0|False Negative|True Negative|\n\n    \n* TP - верноклассифицированная 1-ца\n* TN - верноклассифицированный 0\n* FP - единица отнесенная алгоритмом в 0\n* FN - 0 отнесенный алгоритмом в 1"
    },
    {
      "metadata": {
        "trusted": true
      },
      "cell_type": "markdown",
      "source": "### Примеры кейсов классификации:\n\n* Кластеризация клиентов. Подготовка групп клиентов - для таргетированных рассылок\n* Модель рекомендаций\n* Классификация входящих сообщений\n* Задачи предиктивной анаитики"
    },
    {
      "metadata": {},
      "cell_type": "markdown",
      "source": "### Основные библиотеки для визуализации:\n\n* Matplotlib\n* Seaborn"
    },
    {
      "metadata": {},
      "cell_type": "markdown",
      "source": "### Машинное обучение и глубокое обучение:\n\n* SciKit-Learn\n* TensorFlow\n* Theano \n* Keras\n\n\n### Обработка естественного языка:\n\n* NLTK — документация  —  ру­ко­вод­ство\n\n### Web scraping (Работа с web):\n\n* BeautifulSoup 4 — до­ку­мен­та­ция  —  ру­ко­вод­ство"
    },
    {
      "metadata": {},
      "cell_type": "markdown",
      "source": "|Машина может|Машина не может|\n|------|----------------|\n|Предсказывать|Создавать новое|\n|Запоминать|Резко поумнеть|\n|Воспроизводить|Выйти за рамки задачи|\n|Выбирать лучшее|Убить всех людей|"
    },
    {
      "metadata": {},
      "cell_type": "markdown",
      "source": "# Работа с данными"
    },
    {
      "metadata": {
        "trusted": true
      },
      "cell_type": "code",
      "source": "## импортирование необходимых библиотек\n\nimport numpy as np\nimport pandas as pd\nimport matplotlib.pyplot as plt\nplt.style.use('ggplot')\n%matplotlib inline",
      "execution_count": 1,
      "outputs": [
        {
          "output_type": "stream",
          "text": "/home/nbuser/anaconda3_420/lib/python3.5/site-packages/matplotlib/font_manager.py:281: UserWarning: Matplotlib is building the font cache using fc-list. This may take a moment.\n  'Matplotlib is building the font cache using fc-list. '\n",
          "name": "stderr"
        }
      ]
    },
    {
      "metadata": {
        "trusted": true
      },
      "cell_type": "code",
      "source": "## загрузка данных\n\nurl = 'https://archive.ics.uci.edu/ml/machine-learning-databases/credit-screening/crx.data'\ndata = pd.read_csv(url, header=None, na_values='?')",
      "execution_count": 2,
      "outputs": []
    },
    {
      "metadata": {
        "trusted": true
      },
      "cell_type": "code",
      "source": "## размер матрицы\n\ndata.shape",
      "execution_count": 3,
      "outputs": [
        {
          "output_type": "execute_result",
          "execution_count": 3,
          "data": {
            "text/plain": "(690, 16)"
          },
          "metadata": {}
        }
      ]
    },
    {
      "metadata": {
        "trusted": true
      },
      "cell_type": "code",
      "source": "## несколько первых строк матрицы\n\ndata.head()",
      "execution_count": 4,
      "outputs": [
        {
          "output_type": "execute_result",
          "execution_count": 4,
          "data": {
            "text/html": "<div>\n<table border=\"1\" class=\"dataframe\">\n  <thead>\n    <tr style=\"text-align: right;\">\n      <th></th>\n      <th>0</th>\n      <th>1</th>\n      <th>2</th>\n      <th>3</th>\n      <th>4</th>\n      <th>5</th>\n      <th>6</th>\n      <th>7</th>\n      <th>8</th>\n      <th>9</th>\n      <th>10</th>\n      <th>11</th>\n      <th>12</th>\n      <th>13</th>\n      <th>14</th>\n      <th>15</th>\n    </tr>\n  </thead>\n  <tbody>\n    <tr>\n      <th>0</th>\n      <td>b</td>\n      <td>30.83</td>\n      <td>0.000</td>\n      <td>u</td>\n      <td>g</td>\n      <td>w</td>\n      <td>v</td>\n      <td>1.25</td>\n      <td>t</td>\n      <td>t</td>\n      <td>1</td>\n      <td>f</td>\n      <td>g</td>\n      <td>202.0</td>\n      <td>0</td>\n      <td>+</td>\n    </tr>\n    <tr>\n      <th>1</th>\n      <td>a</td>\n      <td>58.67</td>\n      <td>4.460</td>\n      <td>u</td>\n      <td>g</td>\n      <td>q</td>\n      <td>h</td>\n      <td>3.04</td>\n      <td>t</td>\n      <td>t</td>\n      <td>6</td>\n      <td>f</td>\n      <td>g</td>\n      <td>43.0</td>\n      <td>560</td>\n      <td>+</td>\n    </tr>\n    <tr>\n      <th>2</th>\n      <td>a</td>\n      <td>24.50</td>\n      <td>0.500</td>\n      <td>u</td>\n      <td>g</td>\n      <td>q</td>\n      <td>h</td>\n      <td>1.50</td>\n      <td>t</td>\n      <td>f</td>\n      <td>0</td>\n      <td>f</td>\n      <td>g</td>\n      <td>280.0</td>\n      <td>824</td>\n      <td>+</td>\n    </tr>\n    <tr>\n      <th>3</th>\n      <td>b</td>\n      <td>27.83</td>\n      <td>1.540</td>\n      <td>u</td>\n      <td>g</td>\n      <td>w</td>\n      <td>v</td>\n      <td>3.75</td>\n      <td>t</td>\n      <td>t</td>\n      <td>5</td>\n      <td>t</td>\n      <td>g</td>\n      <td>100.0</td>\n      <td>3</td>\n      <td>+</td>\n    </tr>\n    <tr>\n      <th>4</th>\n      <td>b</td>\n      <td>20.17</td>\n      <td>5.625</td>\n      <td>u</td>\n      <td>g</td>\n      <td>w</td>\n      <td>v</td>\n      <td>1.71</td>\n      <td>t</td>\n      <td>f</td>\n      <td>0</td>\n      <td>f</td>\n      <td>s</td>\n      <td>120.0</td>\n      <td>0</td>\n      <td>+</td>\n    </tr>\n  </tbody>\n</table>\n</div>",
            "text/plain": "  0      1      2  3  4  5  6     7  8  9   10 11 12     13   14 15\n0  b  30.83  0.000  u  g  w  v  1.25  t  t   1  f  g  202.0    0  +\n1  a  58.67  4.460  u  g  q  h  3.04  t  t   6  f  g   43.0  560  +\n2  a  24.50  0.500  u  g  q  h  1.50  t  f   0  f  g  280.0  824  +\n3  b  27.83  1.540  u  g  w  v  3.75  t  t   5  t  g  100.0    3  +\n4  b  20.17  5.625  u  g  w  v  1.71  t  f   0  f  s  120.0    0  +"
          },
          "metadata": {}
        }
      ]
    },
    {
      "metadata": {
        "trusted": true
      },
      "cell_type": "code",
      "source": "## несколько последных строк\n\ndata.tail()",
      "execution_count": 5,
      "outputs": [
        {
          "output_type": "execute_result",
          "execution_count": 5,
          "data": {
            "text/html": "<div>\n<table border=\"1\" class=\"dataframe\">\n  <thead>\n    <tr style=\"text-align: right;\">\n      <th></th>\n      <th>0</th>\n      <th>1</th>\n      <th>2</th>\n      <th>3</th>\n      <th>4</th>\n      <th>5</th>\n      <th>6</th>\n      <th>7</th>\n      <th>8</th>\n      <th>9</th>\n      <th>10</th>\n      <th>11</th>\n      <th>12</th>\n      <th>13</th>\n      <th>14</th>\n      <th>15</th>\n    </tr>\n  </thead>\n  <tbody>\n    <tr>\n      <th>685</th>\n      <td>b</td>\n      <td>21.08</td>\n      <td>10.085</td>\n      <td>y</td>\n      <td>p</td>\n      <td>e</td>\n      <td>h</td>\n      <td>1.25</td>\n      <td>f</td>\n      <td>f</td>\n      <td>0</td>\n      <td>f</td>\n      <td>g</td>\n      <td>260.0</td>\n      <td>0</td>\n      <td>-</td>\n    </tr>\n    <tr>\n      <th>686</th>\n      <td>a</td>\n      <td>22.67</td>\n      <td>0.750</td>\n      <td>u</td>\n      <td>g</td>\n      <td>c</td>\n      <td>v</td>\n      <td>2.00</td>\n      <td>f</td>\n      <td>t</td>\n      <td>2</td>\n      <td>t</td>\n      <td>g</td>\n      <td>200.0</td>\n      <td>394</td>\n      <td>-</td>\n    </tr>\n    <tr>\n      <th>687</th>\n      <td>a</td>\n      <td>25.25</td>\n      <td>13.500</td>\n      <td>y</td>\n      <td>p</td>\n      <td>ff</td>\n      <td>ff</td>\n      <td>2.00</td>\n      <td>f</td>\n      <td>t</td>\n      <td>1</td>\n      <td>t</td>\n      <td>g</td>\n      <td>200.0</td>\n      <td>1</td>\n      <td>-</td>\n    </tr>\n    <tr>\n      <th>688</th>\n      <td>b</td>\n      <td>17.92</td>\n      <td>0.205</td>\n      <td>u</td>\n      <td>g</td>\n      <td>aa</td>\n      <td>v</td>\n      <td>0.04</td>\n      <td>f</td>\n      <td>f</td>\n      <td>0</td>\n      <td>f</td>\n      <td>g</td>\n      <td>280.0</td>\n      <td>750</td>\n      <td>-</td>\n    </tr>\n    <tr>\n      <th>689</th>\n      <td>b</td>\n      <td>35.00</td>\n      <td>3.375</td>\n      <td>u</td>\n      <td>g</td>\n      <td>c</td>\n      <td>h</td>\n      <td>8.29</td>\n      <td>f</td>\n      <td>f</td>\n      <td>0</td>\n      <td>t</td>\n      <td>g</td>\n      <td>0.0</td>\n      <td>0</td>\n      <td>-</td>\n    </tr>\n  </tbody>\n</table>\n</div>",
            "text/plain": "    0      1       2  3  4   5   6     7  8  9   10 11 12     13   14 15\n685  b  21.08  10.085  y  p   e   h  1.25  f  f   0  f  g  260.0    0  -\n686  a  22.67   0.750  u  g   c   v  2.00  f  t   2  t  g  200.0  394  -\n687  a  25.25  13.500  y  p  ff  ff  2.00  f  t   1  t  g  200.0    1  -\n688  b  17.92   0.205  u  g  aa   v  0.04  f  f   0  f  g  280.0  750  -\n689  b  35.00   3.375  u  g   c   h  8.29  f  f   0  t  g    0.0    0  -"
          },
          "metadata": {}
        }
      ]
    },
    {
      "metadata": {
        "trusted": true
      },
      "cell_type": "code",
      "source": "## Проименнуем столбцы. Последний признак является целевым. Назовем его class.\n## В данном датасете есть количественные и категориальные признаки.\n\ndata.columns = ['A' + str(i) for i in range(1, 16)] + ['class']\ndata.head()",
      "execution_count": 6,
      "outputs": [
        {
          "output_type": "execute_result",
          "execution_count": 6,
          "data": {
            "text/html": "<div>\n<table border=\"1\" class=\"dataframe\">\n  <thead>\n    <tr style=\"text-align: right;\">\n      <th></th>\n      <th>A1</th>\n      <th>A2</th>\n      <th>A3</th>\n      <th>A4</th>\n      <th>A5</th>\n      <th>A6</th>\n      <th>A7</th>\n      <th>A8</th>\n      <th>A9</th>\n      <th>A10</th>\n      <th>A11</th>\n      <th>A12</th>\n      <th>A13</th>\n      <th>A14</th>\n      <th>A15</th>\n      <th>class</th>\n    </tr>\n  </thead>\n  <tbody>\n    <tr>\n      <th>0</th>\n      <td>b</td>\n      <td>30.83</td>\n      <td>0.000</td>\n      <td>u</td>\n      <td>g</td>\n      <td>w</td>\n      <td>v</td>\n      <td>1.25</td>\n      <td>t</td>\n      <td>t</td>\n      <td>1</td>\n      <td>f</td>\n      <td>g</td>\n      <td>202.0</td>\n      <td>0</td>\n      <td>+</td>\n    </tr>\n    <tr>\n      <th>1</th>\n      <td>a</td>\n      <td>58.67</td>\n      <td>4.460</td>\n      <td>u</td>\n      <td>g</td>\n      <td>q</td>\n      <td>h</td>\n      <td>3.04</td>\n      <td>t</td>\n      <td>t</td>\n      <td>6</td>\n      <td>f</td>\n      <td>g</td>\n      <td>43.0</td>\n      <td>560</td>\n      <td>+</td>\n    </tr>\n    <tr>\n      <th>2</th>\n      <td>a</td>\n      <td>24.50</td>\n      <td>0.500</td>\n      <td>u</td>\n      <td>g</td>\n      <td>q</td>\n      <td>h</td>\n      <td>1.50</td>\n      <td>t</td>\n      <td>f</td>\n      <td>0</td>\n      <td>f</td>\n      <td>g</td>\n      <td>280.0</td>\n      <td>824</td>\n      <td>+</td>\n    </tr>\n    <tr>\n      <th>3</th>\n      <td>b</td>\n      <td>27.83</td>\n      <td>1.540</td>\n      <td>u</td>\n      <td>g</td>\n      <td>w</td>\n      <td>v</td>\n      <td>3.75</td>\n      <td>t</td>\n      <td>t</td>\n      <td>5</td>\n      <td>t</td>\n      <td>g</td>\n      <td>100.0</td>\n      <td>3</td>\n      <td>+</td>\n    </tr>\n    <tr>\n      <th>4</th>\n      <td>b</td>\n      <td>20.17</td>\n      <td>5.625</td>\n      <td>u</td>\n      <td>g</td>\n      <td>w</td>\n      <td>v</td>\n      <td>1.71</td>\n      <td>t</td>\n      <td>f</td>\n      <td>0</td>\n      <td>f</td>\n      <td>s</td>\n      <td>120.0</td>\n      <td>0</td>\n      <td>+</td>\n    </tr>\n  </tbody>\n</table>\n</div>",
            "text/plain": "  A1     A2     A3 A4 A5 A6 A7    A8 A9 A10  A11 A12 A13    A14  A15 class\n0  b  30.83  0.000  u  g  w  v  1.25  t   t    1   f   g  202.0    0     +\n1  a  58.67  4.460  u  g  q  h  3.04  t   t    6   f   g   43.0  560     +\n2  a  24.50  0.500  u  g  q  h  1.50  t   f    0   f   g  280.0  824     +\n3  b  27.83  1.540  u  g  w  v  3.75  t   t    5   t   g  100.0    3     +\n4  b  20.17  5.625  u  g  w  v  1.71  t   f    0   f   s  120.0    0     +"
          },
          "metadata": {}
        }
      ]
    },
    {
      "metadata": {
        "trusted": true
      },
      "cell_type": "code",
      "source": "## обращение к элементу по строке и столбцу\n\ndata['A5'][687]",
      "execution_count": 7,
      "outputs": [
        {
          "output_type": "execute_result",
          "execution_count": 7,
          "data": {
            "text/plain": "'p'"
          },
          "metadata": {}
        }
      ]
    },
    {
      "metadata": {
        "trusted": true
      },
      "cell_type": "code",
      "source": "## другой способ обращения к элементу по строке и столбцу\n\ndata.at[687, 'A5']",
      "execution_count": 8,
      "outputs": [
        {
          "output_type": "execute_result",
          "execution_count": 8,
          "data": {
            "text/plain": "'p'"
          },
          "metadata": {}
        }
      ]
    },
    {
      "metadata": {
        "trusted": true
      },
      "cell_type": "code",
      "source": "## С помощью метода describe() получим некоторую сводную информацию по всей таблице.\n## По умолчанию будет выдана информация только для количественных признаков. \n## Это общее их количество (count), среднее значение (mean), стандартное отклонение (std), \n## минимальное (min), макcимальное (max) значения, медиана (50%) и значения нижнего (25%) и верхнего (75%) квартилей.\n\ndata.describe()",
      "execution_count": 9,
      "outputs": [
        {
          "output_type": "execute_result",
          "execution_count": 9,
          "data": {
            "text/html": "<div>\n<table border=\"1\" class=\"dataframe\">\n  <thead>\n    <tr style=\"text-align: right;\">\n      <th></th>\n      <th>A2</th>\n      <th>A3</th>\n      <th>A8</th>\n      <th>A11</th>\n      <th>A14</th>\n      <th>A15</th>\n    </tr>\n  </thead>\n  <tbody>\n    <tr>\n      <th>count</th>\n      <td>678.000000</td>\n      <td>690.000000</td>\n      <td>690.000000</td>\n      <td>690.00000</td>\n      <td>677.000000</td>\n      <td>690.000000</td>\n    </tr>\n    <tr>\n      <th>mean</th>\n      <td>31.568171</td>\n      <td>4.758725</td>\n      <td>2.223406</td>\n      <td>2.40000</td>\n      <td>184.014771</td>\n      <td>1017.385507</td>\n    </tr>\n    <tr>\n      <th>std</th>\n      <td>11.957862</td>\n      <td>4.978163</td>\n      <td>3.346513</td>\n      <td>4.86294</td>\n      <td>173.806768</td>\n      <td>5210.102598</td>\n    </tr>\n    <tr>\n      <th>min</th>\n      <td>13.750000</td>\n      <td>0.000000</td>\n      <td>0.000000</td>\n      <td>0.00000</td>\n      <td>0.000000</td>\n      <td>0.000000</td>\n    </tr>\n    <tr>\n      <th>25%</th>\n      <td>22.602500</td>\n      <td>1.000000</td>\n      <td>0.165000</td>\n      <td>0.00000</td>\n      <td>75.000000</td>\n      <td>0.000000</td>\n    </tr>\n    <tr>\n      <th>50%</th>\n      <td>28.460000</td>\n      <td>2.750000</td>\n      <td>1.000000</td>\n      <td>0.00000</td>\n      <td>160.000000</td>\n      <td>5.000000</td>\n    </tr>\n    <tr>\n      <th>75%</th>\n      <td>38.230000</td>\n      <td>7.207500</td>\n      <td>2.625000</td>\n      <td>3.00000</td>\n      <td>276.000000</td>\n      <td>395.500000</td>\n    </tr>\n    <tr>\n      <th>max</th>\n      <td>80.250000</td>\n      <td>28.000000</td>\n      <td>28.500000</td>\n      <td>67.00000</td>\n      <td>2000.000000</td>\n      <td>100000.000000</td>\n    </tr>\n  </tbody>\n</table>\n</div>",
            "text/plain": "               A2          A3          A8        A11          A14  \\\ncount  678.000000  690.000000  690.000000  690.00000   677.000000   \nmean    31.568171    4.758725    2.223406    2.40000   184.014771   \nstd     11.957862    4.978163    3.346513    4.86294   173.806768   \nmin     13.750000    0.000000    0.000000    0.00000     0.000000   \n25%     22.602500    1.000000    0.165000    0.00000    75.000000   \n50%     28.460000    2.750000    1.000000    0.00000   160.000000   \n75%     38.230000    7.207500    2.625000    3.00000   276.000000   \nmax     80.250000   28.000000   28.500000   67.00000  2000.000000   \n\n                 A15  \ncount     690.000000  \nmean     1017.385507  \nstd      5210.102598  \nmin         0.000000  \n25%         0.000000  \n50%         5.000000  \n75%       395.500000  \nmax    100000.000000  "
          },
          "metadata": {}
        }
      ]
    },
    {
      "metadata": {},
      "cell_type": "markdown",
      "source": "Заметим, что количество элементов в столбцах A2, A14 меньше общего количества объектов (690), что говорит о том, что эти столбцы содержат пропущенные значения."
    },
    {
      "metadata": {
        "trusted": true
      },
      "cell_type": "code",
      "source": "## выделим количественные и категориальные признаки\n\ncategorical_columns = [c for c in data.columns if data[c].dtype.name == 'object']\nnumerical_columns   = [c for c in data.columns if data[c].dtype.name != 'object']\nprint(categorical_columns)\nprint(numerical_columns)",
      "execution_count": 10,
      "outputs": [
        {
          "output_type": "stream",
          "text": "['A1', 'A4', 'A5', 'A6', 'A7', 'A9', 'A10', 'A12', 'A13', 'class']\n['A2', 'A3', 'A8', 'A11', 'A14', 'A15']\n",
          "name": "stdout"
        }
      ]
    },
    {
      "metadata": {
        "trusted": true
      },
      "cell_type": "code",
      "source": "## общая информация по категориальным признакам\n\ndata[categorical_columns].describe()",
      "execution_count": 11,
      "outputs": [
        {
          "output_type": "execute_result",
          "execution_count": 11,
          "data": {
            "text/html": "<div>\n<table border=\"1\" class=\"dataframe\">\n  <thead>\n    <tr style=\"text-align: right;\">\n      <th></th>\n      <th>A1</th>\n      <th>A4</th>\n      <th>A5</th>\n      <th>A6</th>\n      <th>A7</th>\n      <th>A9</th>\n      <th>A10</th>\n      <th>A12</th>\n      <th>A13</th>\n      <th>class</th>\n    </tr>\n  </thead>\n  <tbody>\n    <tr>\n      <th>count</th>\n      <td>678</td>\n      <td>684</td>\n      <td>684</td>\n      <td>681</td>\n      <td>681</td>\n      <td>690</td>\n      <td>690</td>\n      <td>690</td>\n      <td>690</td>\n      <td>690</td>\n    </tr>\n    <tr>\n      <th>unique</th>\n      <td>2</td>\n      <td>3</td>\n      <td>3</td>\n      <td>14</td>\n      <td>9</td>\n      <td>2</td>\n      <td>2</td>\n      <td>2</td>\n      <td>3</td>\n      <td>2</td>\n    </tr>\n    <tr>\n      <th>top</th>\n      <td>b</td>\n      <td>u</td>\n      <td>g</td>\n      <td>c</td>\n      <td>v</td>\n      <td>t</td>\n      <td>f</td>\n      <td>f</td>\n      <td>g</td>\n      <td>-</td>\n    </tr>\n    <tr>\n      <th>freq</th>\n      <td>468</td>\n      <td>519</td>\n      <td>519</td>\n      <td>137</td>\n      <td>399</td>\n      <td>361</td>\n      <td>395</td>\n      <td>374</td>\n      <td>625</td>\n      <td>383</td>\n    </tr>\n  </tbody>\n</table>\n</div>",
            "text/plain": "         A1   A4   A5   A6   A7   A9  A10  A12  A13 class\ncount   678  684  684  681  681  690  690  690  690   690\nunique    2    3    3   14    9    2    2    2    3     2\ntop       b    u    g    c    v    t    f    f    g     -\nfreq    468  519  519  137  399  361  395  374  625   383"
          },
          "metadata": {}
        }
      ]
    },
    {
      "metadata": {},
      "cell_type": "markdown",
      "source": "В таблице для каждого категориального признака приведено общее число заполненных ячеек (count), количество значений, которые принимает данный признак (unique), самое популярное (часто встречающееся) значение этого признака (top) и количество объектов, в которых встречается самое частое значение данного признака (freq)."
    },
    {
      "metadata": {
        "trusted": true
      },
      "cell_type": "code",
      "source": "## Другой способ получить ту же информацию.\n\ndata.describe(include=[object])",
      "execution_count": 12,
      "outputs": [
        {
          "output_type": "execute_result",
          "execution_count": 12,
          "data": {
            "text/html": "<div>\n<table border=\"1\" class=\"dataframe\">\n  <thead>\n    <tr style=\"text-align: right;\">\n      <th></th>\n      <th>A1</th>\n      <th>A4</th>\n      <th>A5</th>\n      <th>A6</th>\n      <th>A7</th>\n      <th>A9</th>\n      <th>A10</th>\n      <th>A12</th>\n      <th>A13</th>\n      <th>class</th>\n    </tr>\n  </thead>\n  <tbody>\n    <tr>\n      <th>count</th>\n      <td>678</td>\n      <td>684</td>\n      <td>684</td>\n      <td>681</td>\n      <td>681</td>\n      <td>690</td>\n      <td>690</td>\n      <td>690</td>\n      <td>690</td>\n      <td>690</td>\n    </tr>\n    <tr>\n      <th>unique</th>\n      <td>2</td>\n      <td>3</td>\n      <td>3</td>\n      <td>14</td>\n      <td>9</td>\n      <td>2</td>\n      <td>2</td>\n      <td>2</td>\n      <td>3</td>\n      <td>2</td>\n    </tr>\n    <tr>\n      <th>top</th>\n      <td>b</td>\n      <td>u</td>\n      <td>g</td>\n      <td>c</td>\n      <td>v</td>\n      <td>t</td>\n      <td>f</td>\n      <td>f</td>\n      <td>g</td>\n      <td>-</td>\n    </tr>\n    <tr>\n      <th>freq</th>\n      <td>468</td>\n      <td>519</td>\n      <td>519</td>\n      <td>137</td>\n      <td>399</td>\n      <td>361</td>\n      <td>395</td>\n      <td>374</td>\n      <td>625</td>\n      <td>383</td>\n    </tr>\n  </tbody>\n</table>\n</div>",
            "text/plain": "         A1   A4   A5   A6   A7   A9  A10  A12  A13 class\ncount   678  684  684  681  681  690  690  690  690   690\nunique    2    3    3   14    9    2    2    2    3     2\ntop       b    u    g    c    v    t    f    f    g     -\nfreq    468  519  519  137  399  361  395  374  625   383"
          },
          "metadata": {}
        }
      ]
    },
    {
      "metadata": {
        "trusted": true
      },
      "cell_type": "code",
      "source": "## Можно определить полный перечень значений категориальных признаков\n\nfor c in categorical_columns:\n    print(data[c].unique())",
      "execution_count": 13,
      "outputs": [
        {
          "output_type": "stream",
          "text": "['b' 'a' nan]\n['u' 'y' nan 'l']\n['g' 'p' nan 'gg']\n['w' 'q' 'm' 'r' 'cc' 'k' 'c' 'd' 'x' 'i' 'e' 'aa' 'ff' 'j' nan]\n['v' 'h' 'bb' 'ff' 'j' 'z' nan 'o' 'dd' 'n']\n['t' 'f']\n['t' 'f']\n['f' 't']\n['g' 's' 'p']\n['+' '-']\n",
          "name": "stdout"
        }
      ]
    },
    {
      "metadata": {},
      "cell_type": "markdown",
      "source": "Здесь nan означают пропущенные значения."
    },
    {
      "metadata": {},
      "cell_type": "markdown",
      "source": "Функция scatter_matrix из модуля pandas.tools.plotting позволяет построить для каждой количественной переменной гистограмму, а для каждой пары таких переменных – диаграмму рассеяния:"
    },
    {
      "metadata": {
        "trusted": true
      },
      "cell_type": "code",
      "source": "from pandas.tools.plotting import scatter_matrix\nscatter_matrix(data, alpha=0.05, figsize=(10, 10));",
      "execution_count": 14,
      "outputs": [
        {
          "output_type": "display_data",
          "data": {
            "image/png": "[encoded data removed]",
            "text/plain": "<matplotlib.figure.Figure at 0x7fb728bdc240>"
          },
          "metadata": {}
        }
      ]
    },
    {
      "metadata": {},
      "cell_type": "markdown",
      "source": "Из построенных диаграмм видно, что признаки не сильно коррелируют между собой, что впрочем можно также легко установить, посмотрев на корреляционную матрицу. Все ее недиагональные значения по модулю не превосходят 0.4:"
    },
    {
      "metadata": {
        "trusted": true
      },
      "cell_type": "code",
      "source": "data.corr()",
      "execution_count": 15,
      "outputs": [
        {
          "output_type": "execute_result",
          "execution_count": 15,
          "data": {
            "text/html": "<div>\n<table border=\"1\" class=\"dataframe\">\n  <thead>\n    <tr style=\"text-align: right;\">\n      <th></th>\n      <th>A2</th>\n      <th>A3</th>\n      <th>A8</th>\n      <th>A11</th>\n      <th>A14</th>\n      <th>A15</th>\n    </tr>\n  </thead>\n  <tbody>\n    <tr>\n      <th>A2</th>\n      <td>1.000000</td>\n      <td>0.202317</td>\n      <td>0.395751</td>\n      <td>0.185912</td>\n      <td>-0.079812</td>\n      <td>0.018553</td>\n    </tr>\n    <tr>\n      <th>A3</th>\n      <td>0.202317</td>\n      <td>1.000000</td>\n      <td>0.298902</td>\n      <td>0.271207</td>\n      <td>-0.224242</td>\n      <td>0.123121</td>\n    </tr>\n    <tr>\n      <th>A8</th>\n      <td>0.395751</td>\n      <td>0.298902</td>\n      <td>1.000000</td>\n      <td>0.322330</td>\n      <td>-0.077163</td>\n      <td>0.051345</td>\n    </tr>\n    <tr>\n      <th>A11</th>\n      <td>0.185912</td>\n      <td>0.271207</td>\n      <td>0.322330</td>\n      <td>1.000000</td>\n      <td>-0.120096</td>\n      <td>0.063692</td>\n    </tr>\n    <tr>\n      <th>A14</th>\n      <td>-0.079812</td>\n      <td>-0.224242</td>\n      <td>-0.077163</td>\n      <td>-0.120096</td>\n      <td>1.000000</td>\n      <td>0.066853</td>\n    </tr>\n    <tr>\n      <th>A15</th>\n      <td>0.018553</td>\n      <td>0.123121</td>\n      <td>0.051345</td>\n      <td>0.063692</td>\n      <td>0.066853</td>\n      <td>1.000000</td>\n    </tr>\n  </tbody>\n</table>\n</div>",
            "text/plain": "           A2        A3        A8       A11       A14       A15\nA2   1.000000  0.202317  0.395751  0.185912 -0.079812  0.018553\nA3   0.202317  1.000000  0.298902  0.271207 -0.224242  0.123121\nA8   0.395751  0.298902  1.000000  0.322330 -0.077163  0.051345\nA11  0.185912  0.271207  0.322330  1.000000 -0.120096  0.063692\nA14 -0.079812 -0.224242 -0.077163 -0.120096  1.000000  0.066853\nA15  0.018553  0.123121  0.051345  0.063692  0.066853  1.000000"
          },
          "metadata": {}
        }
      ]
    },
    {
      "metadata": {},
      "cell_type": "markdown",
      "source": "Можно выбрать любую пару признаков и нарисовать диаграмму рассеяния для этой пары признаков, изображая точки, соответствующие объектам из разных классов разным цветом: + – красный, - – синий. Например, для пары признаков A2, A11 получаем следующую диаграмму:"
    },
    {
      "metadata": {
        "trusted": true
      },
      "cell_type": "code",
      "source": "col1 = 'A2'\ncol2 = 'A11'\n\nplt.figure(figsize=(10, 6))\n\nplt.scatter(data[col1][data['class'] == '+'],\n            data[col2][data['class'] == '+'],\n            alpha=0.75,\n            color='red',\n            label='+')\n\nplt.scatter(data[col1][data['class'] == '-'],\n            data[col2][data['class'] == '-'],\n            alpha=0.75,\n            color='blue',\n            label='-')\n\nplt.xlabel(col1)\nplt.ylabel(col2)\nplt.legend(loc='best');",
      "execution_count": 16,
      "outputs": [
        {
          "output_type": "display_data",
          "data": {
            "image/png": "[encoded data removed]",
            "text/plain": "<matplotlib.figure.Figure at 0x7fb72825fc50>"
          },
          "metadata": {}
        }
      ]
    },
    {
      "metadata": {},
      "cell_type": "markdown",
      "source": "Из диаграммы, в частности, видно, что признак A11 является существенным: как правило, красные точки имеют большое значение этого признака, а синие – маленькое. Иными словами, визуально наблюдается хорошая корреляция между признаками A11 и class. Признак A2, напротив, несет гораздо меньше информации о принадлежности объекта интересующему нас классу."
    },
    {
      "metadata": {},
      "cell_type": "markdown",
      "source": "# Подготовка данных"
    },
    {
      "metadata": {},
      "cell_type": "markdown",
      "source": "Алгоритмы машинного обучения из библиотеки scikit-learn не работают напрямую с категориальными признаками и данными, в которых имеются пропущенные значения. Поэтому вначале подготовим наши данные."
    },
    {
      "metadata": {},
      "cell_type": "markdown",
      "source": "### Пропущенные значения"
    },
    {
      "metadata": {},
      "cell_type": "markdown",
      "source": "Узнать количество заполненных (непропущенных) элементов можно с помощью метода count. Параметр axis = 0 указывает, что мы двигаемся по размерности 0 (сверху вниз), а не размерности 1 (слева направо), т.е. нас интересует количество заполненных элементов в каждом столбце, а не строке."
    },
    {
      "metadata": {
        "trusted": true
      },
      "cell_type": "code",
      "source": "data.count(axis=0)",
      "execution_count": 17,
      "outputs": [
        {
          "output_type": "execute_result",
          "execution_count": 17,
          "data": {
            "text/plain": "A1       678\nA2       678\nA3       690\nA4       684\nA5       684\nA6       681\nA7       681\nA8       690\nA9       690\nA10      690\nA11      690\nA12      690\nA13      690\nA14      677\nA15      690\nclass    690\ndtype: int64"
          },
          "metadata": {}
        }
      ]
    },
    {
      "metadata": {},
      "cell_type": "markdown",
      "source": "Если данные содержат пропущенные значения, то имеется две простые альтернативы:\n\n- удалить столбцы с такими значениями (data = data.dropna(axis=1))\n- удалить строки с такими значениями (data = data.dropna(axis=0))\n\nПосле этого, к сожалению, данных может стать совсем мало, поэтому рассмотрим простые альтернативные способы."
    },
    {
      "metadata": {},
      "cell_type": "markdown",
      "source": "#### Количественные признаки"
    },
    {
      "metadata": {},
      "cell_type": "markdown",
      "source": "Заполнить пропущенные значения можно с помощью метода fillna. Заполним, например, медианными значениями.\n\naxis=0 по-прежнему указывает, что мы двигаемся сверху вниз:"
    },
    {
      "metadata": {
        "trusted": true
      },
      "cell_type": "code",
      "source": "data = data.fillna(data.median(axis=0), axis=0)",
      "execution_count": 18,
      "outputs": []
    },
    {
      "metadata": {},
      "cell_type": "markdown",
      "source": "Проверим, что теперь все столбцы, соответствующие количественным признакам, заполнены."
    },
    {
      "metadata": {
        "trusted": true
      },
      "cell_type": "code",
      "source": "data[numerical_columns].count(axis=0)",
      "execution_count": 19,
      "outputs": [
        {
          "output_type": "execute_result",
          "execution_count": 19,
          "data": {
            "text/plain": "A2     690\nA3     690\nA8     690\nA11    690\nA14    690\nA15    690\ndtype: int64"
          },
          "metadata": {}
        }
      ]
    },
    {
      "metadata": {},
      "cell_type": "markdown",
      "source": "#### Категориалные признаки"
    },
    {
      "metadata": {},
      "cell_type": "markdown",
      "source": "Теперь рассмотрим пропущенные значения в столбцах, соответствующих категориальным признакам. Простая стратегия – заполнение пропущенных значений самым популярным в столбце. Начнем с A1:"
    },
    {
      "metadata": {
        "trusted": true
      },
      "cell_type": "code",
      "source": "data['A1'].describe()",
      "execution_count": 20,
      "outputs": [
        {
          "output_type": "execute_result",
          "execution_count": 20,
          "data": {
            "text/plain": "count     678\nunique      2\ntop         b\nfreq      468\nName: A1, dtype: object"
          },
          "metadata": {}
        }
      ]
    },
    {
      "metadata": {},
      "cell_type": "markdown",
      "source": "В столбце A1 имеются пропущенные значения. Наиболее частым (встречается 468 раз) является b. Заполняем все пропуски этим значением:"
    },
    {
      "metadata": {
        "trusted": true
      },
      "cell_type": "code",
      "source": "data['A1'] = data['A1'].fillna('b')",
      "execution_count": 21,
      "outputs": []
    },
    {
      "metadata": {},
      "cell_type": "markdown",
      "source": "Автоматизируем процесс:"
    },
    {
      "metadata": {
        "trusted": true
      },
      "cell_type": "code",
      "source": "data_describe = data.describe(include=[object])\nfor c in categorical_columns:\n    data[c] = data[c].fillna(data_describe[c]['top'])",
      "execution_count": 22,
      "outputs": []
    },
    {
      "metadata": {},
      "cell_type": "markdown",
      "source": "Теперь все элементы таблицы заполнены:"
    },
    {
      "metadata": {
        "trusted": true
      },
      "cell_type": "code",
      "source": "data.describe(include=[object])",
      "execution_count": 23,
      "outputs": [
        {
          "output_type": "execute_result",
          "execution_count": 23,
          "data": {
            "text/html": "<div>\n<table border=\"1\" class=\"dataframe\">\n  <thead>\n    <tr style=\"text-align: right;\">\n      <th></th>\n      <th>A1</th>\n      <th>A4</th>\n      <th>A5</th>\n      <th>A6</th>\n      <th>A7</th>\n      <th>A9</th>\n      <th>A10</th>\n      <th>A12</th>\n      <th>A13</th>\n      <th>class</th>\n    </tr>\n  </thead>\n  <tbody>\n    <tr>\n      <th>count</th>\n      <td>690</td>\n      <td>690</td>\n      <td>690</td>\n      <td>690</td>\n      <td>690</td>\n      <td>690</td>\n      <td>690</td>\n      <td>690</td>\n      <td>690</td>\n      <td>690</td>\n    </tr>\n    <tr>\n      <th>unique</th>\n      <td>2</td>\n      <td>3</td>\n      <td>3</td>\n      <td>14</td>\n      <td>9</td>\n      <td>2</td>\n      <td>2</td>\n      <td>2</td>\n      <td>3</td>\n      <td>2</td>\n    </tr>\n    <tr>\n      <th>top</th>\n      <td>b</td>\n      <td>u</td>\n      <td>g</td>\n      <td>c</td>\n      <td>v</td>\n      <td>t</td>\n      <td>f</td>\n      <td>f</td>\n      <td>g</td>\n      <td>-</td>\n    </tr>\n    <tr>\n      <th>freq</th>\n      <td>480</td>\n      <td>525</td>\n      <td>525</td>\n      <td>146</td>\n      <td>408</td>\n      <td>361</td>\n      <td>395</td>\n      <td>374</td>\n      <td>625</td>\n      <td>383</td>\n    </tr>\n  </tbody>\n</table>\n</div>",
            "text/plain": "         A1   A4   A5   A6   A7   A9  A10  A12  A13 class\ncount   690  690  690  690  690  690  690  690  690   690\nunique    2    3    3   14    9    2    2    2    3     2\ntop       b    u    g    c    v    t    f    f    g     -\nfreq    480  525  525  146  408  361  395  374  625   383"
          },
          "metadata": {}
        }
      ]
    },
    {
      "metadata": {
        "trusted": true
      },
      "cell_type": "code",
      "source": "data.describe()",
      "execution_count": 24,
      "outputs": [
        {
          "output_type": "execute_result",
          "execution_count": 24,
          "data": {
            "text/html": "<div>\n<table border=\"1\" class=\"dataframe\">\n  <thead>\n    <tr style=\"text-align: right;\">\n      <th></th>\n      <th>A2</th>\n      <th>A3</th>\n      <th>A8</th>\n      <th>A11</th>\n      <th>A14</th>\n      <th>A15</th>\n    </tr>\n  </thead>\n  <tbody>\n    <tr>\n      <th>count</th>\n      <td>690.000000</td>\n      <td>690.000000</td>\n      <td>690.000000</td>\n      <td>690.00000</td>\n      <td>690.000000</td>\n      <td>690.000000</td>\n    </tr>\n    <tr>\n      <th>mean</th>\n      <td>31.514116</td>\n      <td>4.758725</td>\n      <td>2.223406</td>\n      <td>2.40000</td>\n      <td>183.562319</td>\n      <td>1017.385507</td>\n    </tr>\n    <tr>\n      <th>std</th>\n      <td>11.860245</td>\n      <td>4.978163</td>\n      <td>3.346513</td>\n      <td>4.86294</td>\n      <td>172.190278</td>\n      <td>5210.102598</td>\n    </tr>\n    <tr>\n      <th>min</th>\n      <td>13.750000</td>\n      <td>0.000000</td>\n      <td>0.000000</td>\n      <td>0.00000</td>\n      <td>0.000000</td>\n      <td>0.000000</td>\n    </tr>\n    <tr>\n      <th>25%</th>\n      <td>22.670000</td>\n      <td>1.000000</td>\n      <td>0.165000</td>\n      <td>0.00000</td>\n      <td>80.000000</td>\n      <td>0.000000</td>\n    </tr>\n    <tr>\n      <th>50%</th>\n      <td>28.460000</td>\n      <td>2.750000</td>\n      <td>1.000000</td>\n      <td>0.00000</td>\n      <td>160.000000</td>\n      <td>5.000000</td>\n    </tr>\n    <tr>\n      <th>75%</th>\n      <td>37.707500</td>\n      <td>7.207500</td>\n      <td>2.625000</td>\n      <td>3.00000</td>\n      <td>272.000000</td>\n      <td>395.500000</td>\n    </tr>\n    <tr>\n      <th>max</th>\n      <td>80.250000</td>\n      <td>28.000000</td>\n      <td>28.500000</td>\n      <td>67.00000</td>\n      <td>2000.000000</td>\n      <td>100000.000000</td>\n    </tr>\n  </tbody>\n</table>\n</div>",
            "text/plain": "               A2          A3          A8        A11          A14  \\\ncount  690.000000  690.000000  690.000000  690.00000   690.000000   \nmean    31.514116    4.758725    2.223406    2.40000   183.562319   \nstd     11.860245    4.978163    3.346513    4.86294   172.190278   \nmin     13.750000    0.000000    0.000000    0.00000     0.000000   \n25%     22.670000    1.000000    0.165000    0.00000    80.000000   \n50%     28.460000    2.750000    1.000000    0.00000   160.000000   \n75%     37.707500    7.207500    2.625000    3.00000   272.000000   \nmax     80.250000   28.000000   28.500000   67.00000  2000.000000   \n\n                 A15  \ncount     690.000000  \nmean     1017.385507  \nstd      5210.102598  \nmin         0.000000  \n25%         0.000000  \n50%         5.000000  \n75%       395.500000  \nmax    100000.000000  "
          },
          "metadata": {}
        }
      ]
    },
    {
      "metadata": {},
      "cell_type": "markdown",
      "source": "# Векторизация"
    },
    {
      "metadata": {},
      "cell_type": "markdown",
      "source": "Как уже отмечалось, библиотека scikit-learn не умеет напрямую обрабатывать категориальные признаки. Поэтому прежде чем подавать данные на вход алгоритмов машинного обучения преобразуем категориальные признаки в количественные.\n\nКатегориальные признаки, принимающие два значения (т.е. бинарные признаки) и принимающие большее количество значений будем обрабатывать по-разному.\n\nВначале выделим бинарные и небинарные признаки:"
    },
    {
      "metadata": {
        "trusted": true
      },
      "cell_type": "code",
      "source": "binary_columns    = [c for c in categorical_columns if data_describe[c]['unique'] == 2]\nnonbinary_columns = [c for c in categorical_columns if data_describe[c]['unique'] > 2]\nprint(binary_columns, nonbinary_columns)",
      "execution_count": 25,
      "outputs": [
        {
          "output_type": "stream",
          "text": "['A1', 'A9', 'A10', 'A12', 'class'] ['A4', 'A5', 'A6', 'A7', 'A13']\n",
          "name": "stdout"
        }
      ]
    },
    {
      "metadata": {},
      "cell_type": "markdown",
      "source": "### Бинарные признаки"
    },
    {
      "metadata": {},
      "cell_type": "markdown",
      "source": "Значения бинарных признаков просто заменим на 0 и 1. Начнем с признака A1:"
    },
    {
      "metadata": {
        "trusted": true
      },
      "cell_type": "code",
      "source": "data.at[data['A1'] == 'b', 'A1'] = 0\ndata.at[data['A1'] == 'a', 'A1'] = 1\ndata['A1'].describe()",
      "execution_count": 26,
      "outputs": [
        {
          "output_type": "execute_result",
          "execution_count": 26,
          "data": {
            "text/plain": "count     690\nunique      2\ntop         0\nfreq      480\nName: A1, dtype: int64"
          },
          "metadata": {}
        }
      ]
    },
    {
      "metadata": {
        "trusted": true
      },
      "cell_type": "code",
      "source": "data_describe = data.describe(include=[object])\ndata_describe",
      "execution_count": 27,
      "outputs": [
        {
          "output_type": "execute_result",
          "execution_count": 27,
          "data": {
            "text/html": "<div>\n<table border=\"1\" class=\"dataframe\">\n  <thead>\n    <tr style=\"text-align: right;\">\n      <th></th>\n      <th>A1</th>\n      <th>A4</th>\n      <th>A5</th>\n      <th>A6</th>\n      <th>A7</th>\n      <th>A9</th>\n      <th>A10</th>\n      <th>A12</th>\n      <th>A13</th>\n      <th>class</th>\n    </tr>\n  </thead>\n  <tbody>\n    <tr>\n      <th>count</th>\n      <td>690</td>\n      <td>690</td>\n      <td>690</td>\n      <td>690</td>\n      <td>690</td>\n      <td>690</td>\n      <td>690</td>\n      <td>690</td>\n      <td>690</td>\n      <td>690</td>\n    </tr>\n    <tr>\n      <th>unique</th>\n      <td>2</td>\n      <td>3</td>\n      <td>3</td>\n      <td>14</td>\n      <td>9</td>\n      <td>2</td>\n      <td>2</td>\n      <td>2</td>\n      <td>3</td>\n      <td>2</td>\n    </tr>\n    <tr>\n      <th>top</th>\n      <td>0</td>\n      <td>u</td>\n      <td>g</td>\n      <td>c</td>\n      <td>v</td>\n      <td>t</td>\n      <td>f</td>\n      <td>f</td>\n      <td>g</td>\n      <td>-</td>\n    </tr>\n    <tr>\n      <th>freq</th>\n      <td>480</td>\n      <td>525</td>\n      <td>525</td>\n      <td>146</td>\n      <td>408</td>\n      <td>361</td>\n      <td>395</td>\n      <td>374</td>\n      <td>625</td>\n      <td>383</td>\n    </tr>\n  </tbody>\n</table>\n</div>",
            "text/plain": "         A1   A4   A5   A6   A7   A9  A10  A12  A13 class\ncount   690  690  690  690  690  690  690  690  690   690\nunique    2    3    3   14    9    2    2    2    3     2\ntop       0    u    g    c    v    t    f    f    g     -\nfreq    480  525  525  146  408  361  395  374  625   383"
          },
          "metadata": {}
        }
      ]
    },
    {
      "metadata": {},
      "cell_type": "markdown",
      "source": "Автоматизируем процесс"
    },
    {
      "metadata": {
        "trusted": true
      },
      "cell_type": "code",
      "source": "for c in binary_columns[1:]:\n    top = data_describe[c]['top']\n    top_items = data[c] == top\n    data.loc[top_items, c] = 0\n    data.loc[np.logical_not(top_items), c] = 1",
      "execution_count": 28,
      "outputs": []
    },
    {
      "metadata": {
        "trusted": true
      },
      "cell_type": "code",
      "source": "data[binary_columns].describe()",
      "execution_count": 29,
      "outputs": [
        {
          "output_type": "execute_result",
          "execution_count": 29,
          "data": {
            "text/html": "<div>\n<table border=\"1\" class=\"dataframe\">\n  <thead>\n    <tr style=\"text-align: right;\">\n      <th></th>\n      <th>A1</th>\n      <th>A9</th>\n      <th>A10</th>\n      <th>A12</th>\n      <th>class</th>\n    </tr>\n  </thead>\n  <tbody>\n    <tr>\n      <th>count</th>\n      <td>690</td>\n      <td>690</td>\n      <td>690</td>\n      <td>690</td>\n      <td>690</td>\n    </tr>\n    <tr>\n      <th>unique</th>\n      <td>2</td>\n      <td>2</td>\n      <td>2</td>\n      <td>2</td>\n      <td>2</td>\n    </tr>\n    <tr>\n      <th>top</th>\n      <td>0</td>\n      <td>0</td>\n      <td>0</td>\n      <td>0</td>\n      <td>0</td>\n    </tr>\n    <tr>\n      <th>freq</th>\n      <td>480</td>\n      <td>361</td>\n      <td>395</td>\n      <td>374</td>\n      <td>383</td>\n    </tr>\n  </tbody>\n</table>\n</div>",
            "text/plain": "         A1   A9  A10  A12  class\ncount   690  690  690  690    690\nunique    2    2    2    2      2\ntop       0    0    0    0      0\nfreq    480  361  395  374    383"
          },
          "metadata": {}
        }
      ]
    },
    {
      "metadata": {},
      "cell_type": "markdown",
      "source": "### Небинарные признаки"
    },
    {
      "metadata": {},
      "cell_type": "markdown",
      "source": "К небинарными признакам применим метод векторизации, который заключается в следующем.\n\nПризнак j, принимающий s значений, заменим на s признаков, принимащих значения 0 или 1, в зависимости от того, чему равно значение исходного признака j.\n\nНапример, в нашей задаче признак A4 принимает 3 различных значения:"
    },
    {
      "metadata": {
        "trusted": true
      },
      "cell_type": "code",
      "source": "data['A4'].unique()",
      "execution_count": 30,
      "outputs": [
        {
          "output_type": "execute_result",
          "execution_count": 30,
          "data": {
            "text/plain": "array(['u', 'y', 'l'], dtype=object)"
          },
          "metadata": {}
        }
      ]
    },
    {
      "metadata": {},
      "cell_type": "markdown",
      "source": "Заменим признак A4 тремя признаками: A4_u, A4_y, A4_l.\n\n- Если признак A4 принимает значение u, то признак A4_u равен 1, A4_y равен 0, A4_l равен 0.\n- Если признак A4 принимает значение y, то признак A4_y равен 0, A4_y равен 1, A4_l равен 0.\n- Если признак A4 принимает значение l, то признак A4_l равен 0, A4_y равен 0, A4_l равен 1.\n\nТакую векторизацию осуществляет в pandas метод get_dummies:"
    },
    {
      "metadata": {
        "trusted": true
      },
      "cell_type": "code",
      "source": "data_nonbinary = pd.get_dummies(data[nonbinary_columns])\nprint(data_nonbinary.columns)",
      "execution_count": 31,
      "outputs": [
        {
          "output_type": "stream",
          "text": "Index(['A4_l', 'A4_u', 'A4_y', 'A5_g', 'A5_gg', 'A5_p', 'A6_aa', 'A6_c',\n       'A6_cc', 'A6_d', 'A6_e', 'A6_ff', 'A6_i', 'A6_j', 'A6_k', 'A6_m',\n       'A6_q', 'A6_r', 'A6_w', 'A6_x', 'A7_bb', 'A7_dd', 'A7_ff', 'A7_h',\n       'A7_j', 'A7_n', 'A7_o', 'A7_v', 'A7_z', 'A13_g', 'A13_p', 'A13_s'],\n      dtype='object')\n",
          "name": "stdout"
        }
      ]
    },
    {
      "metadata": {},
      "cell_type": "markdown",
      "source": "# Нормализация количественных признаков"
    },
    {
      "metadata": {},
      "cell_type": "markdown",
      "source": "Многие алгоритмы машинного обучения чувствительны к масштабированию данных. К таким алгоритмам, например, относится метод ближайших соседей, машина опорных векторов и др."
    },
    {
      "metadata": {},
      "cell_type": "markdown",
      "source": "В этом случае количественные признаки полезно нормализовать. Это можно делать разными способами. Например, каждый количественный признак приведем к нулевому среднему и единичному среднеквадратичному отклонению:"
    },
    {
      "metadata": {
        "trusted": true
      },
      "cell_type": "code",
      "source": "data_numerical = data[numerical_columns]\ndata_numerical = (data_numerical - data_numerical.mean()) / data_numerical.std()\ndata_numerical.describe()",
      "execution_count": 32,
      "outputs": [
        {
          "output_type": "execute_result",
          "execution_count": 32,
          "data": {
            "text/html": "<div>\n<table border=\"1\" class=\"dataframe\">\n  <thead>\n    <tr style=\"text-align: right;\">\n      <th></th>\n      <th>A2</th>\n      <th>A3</th>\n      <th>A8</th>\n      <th>A11</th>\n      <th>A14</th>\n      <th>A15</th>\n    </tr>\n  </thead>\n  <tbody>\n    <tr>\n      <th>count</th>\n      <td>6.900000e+02</td>\n      <td>6.900000e+02</td>\n      <td>6.900000e+02</td>\n      <td>6.900000e+02</td>\n      <td>6.900000e+02</td>\n      <td>6.900000e+02</td>\n    </tr>\n    <tr>\n      <th>mean</th>\n      <td>-2.581751e-15</td>\n      <td>2.085288e-16</td>\n      <td>1.879334e-16</td>\n      <td>2.067589e-16</td>\n      <td>4.827057e-17</td>\n      <td>-1.448117e-18</td>\n    </tr>\n    <tr>\n      <th>std</th>\n      <td>1.000000e+00</td>\n      <td>1.000000e+00</td>\n      <td>1.000000e+00</td>\n      <td>1.000000e+00</td>\n      <td>1.000000e+00</td>\n      <td>1.000000e+00</td>\n    </tr>\n    <tr>\n      <th>min</th>\n      <td>-1.497787e+00</td>\n      <td>-9.559198e-01</td>\n      <td>-6.643947e-01</td>\n      <td>-4.935286e-01</td>\n      <td>-1.066043e+00</td>\n      <td>-1.952717e-01</td>\n    </tr>\n    <tr>\n      <th>25%</th>\n      <td>-7.456942e-01</td>\n      <td>-7.550425e-01</td>\n      <td>-6.150897e-01</td>\n      <td>-4.935286e-01</td>\n      <td>-6.014412e-01</td>\n      <td>-1.952717e-01</td>\n    </tr>\n    <tr>\n      <th>50%</th>\n      <td>-2.575087e-01</td>\n      <td>-4.035072e-01</td>\n      <td>-3.655762e-01</td>\n      <td>-4.935286e-01</td>\n      <td>-1.368388e-01</td>\n      <td>-1.943120e-01</td>\n    </tr>\n    <tr>\n      <th>75%</th>\n      <td>5.221970e-01</td>\n      <td>4.919034e-01</td>\n      <td>1.200038e-01</td>\n      <td>1.233822e-01</td>\n      <td>5.136044e-01</td>\n      <td>-1.193615e-01</td>\n    </tr>\n    <tr>\n      <th>max</th>\n      <td>4.109180e+00</td>\n      <td>4.668645e+00</td>\n      <td>7.851932e+00</td>\n      <td>1.328414e+01</td>\n      <td>1.054901e+01</td>\n      <td>1.899821e+01</td>\n    </tr>\n  </tbody>\n</table>\n</div>",
            "text/plain": "                 A2            A3            A8           A11           A14  \\\ncount  6.900000e+02  6.900000e+02  6.900000e+02  6.900000e+02  6.900000e+02   \nmean  -2.581751e-15  2.085288e-16  1.879334e-16  2.067589e-16  4.827057e-17   \nstd    1.000000e+00  1.000000e+00  1.000000e+00  1.000000e+00  1.000000e+00   \nmin   -1.497787e+00 -9.559198e-01 -6.643947e-01 -4.935286e-01 -1.066043e+00   \n25%   -7.456942e-01 -7.550425e-01 -6.150897e-01 -4.935286e-01 -6.014412e-01   \n50%   -2.575087e-01 -4.035072e-01 -3.655762e-01 -4.935286e-01 -1.368388e-01   \n75%    5.221970e-01  4.919034e-01  1.200038e-01  1.233822e-01  5.136044e-01   \nmax    4.109180e+00  4.668645e+00  7.851932e+00  1.328414e+01  1.054901e+01   \n\n                A15  \ncount  6.900000e+02  \nmean  -1.448117e-18  \nstd    1.000000e+00  \nmin   -1.952717e-01  \n25%   -1.952717e-01  \n50%   -1.943120e-01  \n75%   -1.193615e-01  \nmax    1.899821e+01  "
          },
          "metadata": {}
        }
      ]
    },
    {
      "metadata": {},
      "cell_type": "markdown",
      "source": "# Соединяем все в одну таблицу"
    },
    {
      "metadata": {
        "trusted": true
      },
      "cell_type": "code",
      "source": "data = pd.concat((data_numerical, data[binary_columns], data_nonbinary), axis=1)\ndata = pd.DataFrame(data, dtype=float)\nprint(data.shape)\nprint(data.columns)",
      "execution_count": 33,
      "outputs": [
        {
          "output_type": "stream",
          "text": "(690, 43)\nIndex(['A2', 'A3', 'A8', 'A11', 'A14', 'A15', 'A1', 'A9', 'A10', 'A12',\n       'class', 'A4_l', 'A4_u', 'A4_y', 'A5_g', 'A5_gg', 'A5_p', 'A6_aa',\n       'A6_c', 'A6_cc', 'A6_d', 'A6_e', 'A6_ff', 'A6_i', 'A6_j', 'A6_k',\n       'A6_m', 'A6_q', 'A6_r', 'A6_w', 'A6_x', 'A7_bb', 'A7_dd', 'A7_ff',\n       'A7_h', 'A7_j', 'A7_n', 'A7_o', 'A7_v', 'A7_z', 'A13_g', 'A13_p',\n       'A13_s'],\n      dtype='object')\n",
          "name": "stdout"
        }
      ]
    },
    {
      "metadata": {},
      "cell_type": "markdown",
      "source": "Для удобства отдельно рассмотрим столбцы, соответствующие входным признакам (это будет матрица X), а отдельно – выделенный признак (вектор y):"
    },
    {
      "metadata": {
        "trusted": true
      },
      "cell_type": "code",
      "source": "X = data.drop(('class'), axis=1)  # Выбрасываем столбец 'class'.\ny = data['class']\nfeature_names = X.columns\nprint(feature_names)",
      "execution_count": 34,
      "outputs": [
        {
          "output_type": "stream",
          "text": "Index(['A2', 'A3', 'A8', 'A11', 'A14', 'A15', 'A1', 'A9', 'A10', 'A12', 'A4_l',\n       'A4_u', 'A4_y', 'A5_g', 'A5_gg', 'A5_p', 'A6_aa', 'A6_c', 'A6_cc',\n       'A6_d', 'A6_e', 'A6_ff', 'A6_i', 'A6_j', 'A6_k', 'A6_m', 'A6_q', 'A6_r',\n       'A6_w', 'A6_x', 'A7_bb', 'A7_dd', 'A7_ff', 'A7_h', 'A7_j', 'A7_n',\n       'A7_o', 'A7_v', 'A7_z', 'A13_g', 'A13_p', 'A13_s'],\n      dtype='object')\n",
          "name": "stdout"
        }
      ]
    },
    {
      "metadata": {
        "trusted": true
      },
      "cell_type": "code",
      "source": "print(X.shape)\nprint(y.shape)\nN, d = X.shape",
      "execution_count": 35,
      "outputs": [
        {
          "output_type": "stream",
          "text": "(690, 42)\n(690,)\n",
          "name": "stdout"
        }
      ]
    },
    {
      "metadata": {},
      "cell_type": "markdown",
      "source": "Теперь у нас 42 входных признака."
    },
    {
      "metadata": {},
      "cell_type": "markdown",
      "source": "# Обучающая и тестовая выборки"
    },
    {
      "metadata": {},
      "cell_type": "markdown",
      "source": "Почти все готово, чтобы запустить алгоритмы машинного обучения.\n\nОбучаться, или, как говорят, строить модель, мы будем на обучающей выборке, а проверять качество построенной модели – на тестовой. В соревнованиях и конкурсах по анализу данных и машинному обучению участнику доступна только обучающая выборка, а тестовая неизвестна.\n\nВ рассматриваемой задаче мы сами разобьем имеющиеся у нас данные на обучающую и тестовую выборки (на самом деле, это больше соответствует реальной ситуации, с которой сталкиваются исследователи).\n\nРазбиение на тестовую и обучающую выборку должно быть случайным. Обычно используют разбиения в пропорции 50%:50%, 60%:40%, 75%:25% и т.д."
    },
    {
      "metadata": {},
      "cell_type": "markdown",
      "source": "Мы воспользуемся функцией train_test_split из модуля sklearn.cross_validation. и разобьем данные на обучающую/тестовую выборки в отношении 70%:30%:"
    },
    {
      "metadata": {
        "trusted": true
      },
      "cell_type": "code",
      "source": "from sklearn.cross_validation import train_test_split\nX_train, X_test, y_train, y_test = train_test_split(X, y, test_size = 0.3, random_state = 11)\n\nN_train, _ = X_train.shape \nN_test,  _ = X_test.shape \nprint(N_train, N_test)",
      "execution_count": 36,
      "outputs": [
        {
          "output_type": "stream",
          "text": "483 207\n",
          "name": "stdout"
        },
        {
          "output_type": "stream",
          "text": "/home/nbuser/anaconda3_420/lib/python3.5/site-packages/sklearn/cross_validation.py:41: DeprecationWarning: This module was deprecated in version 0.18 in favor of the model_selection module into which all the refactored classes and functions are moved. Also note that the interface of the new CV iterators are different from that of this module. This module will be removed in 0.20.\n  \"This module will be removed in 0.20.\", DeprecationWarning)\n",
          "name": "stderr"
        }
      ]
    },
    {
      "metadata": {},
      "cell_type": "markdown",
      "source": "X_train, y_train – это обучающая выборка, X_test, y_test – тестовая."
    },
    {
      "metadata": {},
      "cell_type": "markdown",
      "source": "# Алгоритмы машинного обучения"
    },
    {
      "metadata": {},
      "cell_type": "markdown",
      "source": "В библиотеке scikit-learn реализована масса алгоритмов машинного обучения."
    },
    {
      "metadata": {},
      "cell_type": "markdown",
      "source": "**Некоторые алгоритмы машинного обучения, реализованные в scikit-learn:**"
    },
    {
      "metadata": {},
      "cell_type": "markdown",
      "source": "| Метод | Класс   |\n|------|------|\n| kNN – kk ближайших соседей | sklearn.neighbors.KNeighborsClassifier |\n| LDA – линейный дискриминантный анализ | sklearn.lda.LDA |\n| QDA – квадратичный дискриминантный анализ | sklearn.qda.QDA |\n| Logistic – логистическая регрессия | sklearn.linear_model.LogisticRegression |\n| SVC – машина опорных векторов | sklearn.svm.SVC |\n| Tree – деревья решений | sklearn.tree.DecisionTreeClassifier |\n| RF – случайный лес | sklearn.ensemble.RandomForestClassifier |\n| AdaBoost – адаптивный бустинг | sklearn.ensemble.AdaBoostClassifier |\n| GBT – градиентный бустинг деревьев решений | sklearn.ensemble.GradientBoostingClassifier |"
    },
    {
      "metadata": {},
      "cell_type": "markdown",
      "source": "**Основные методы классов, реализующих алгоритмы машинного обучения**"
    },
    {
      "metadata": {},
      "cell_type": "markdown",
      "source": "Все алгоритмы выполнены в виде классов, обладающих по крайней мере следующими методами:"
    },
    {
      "metadata": {},
      "cell_type": "markdown",
      "source": "<table>\n\t<thead>\n\t\t<tr>\n\t\t\t<th>Метод класса</th>\n\t\t\t<th>Описание</th>\n\t\t</tr>\n\t</thead>\n\t<tbody>\n\t\t<tr>\n\t\t\t<td><code>fit(X, y)</code></td>\n\t\t\t<td>обучение (тренировка) модели на обучающей выборке <code>X</code>, <code>y</code></td>\n\t\t</tr>\n\t\t<tr>\n\t\t\t<td><code>predict(X)</code></td>\n\t\t\t<td>предсказание на данных <code>X</code></td>\n\t\t</tr>\n\t\t<tr>\n\t\t\t<td><code>set_params(**params)</code></td>\n\t\t\t<td>установка параметров алгоритма</td>\n\t\t</tr>\n\t\t<tr>\n\t\t\t<td><code>get_params()</code></td>\n\t\t\t<td>чтение параметров алгоритма</td>\n\t\t</tr>\n\t</tbody>\n</table>"
    },
    {
      "metadata": {},
      "cell_type": "markdown",
      "source": "Заметим, что параметры алгоритмов обучения можно задавать как в конструкторе класса, так и с помощью метода set_params(**params)."
    },
    {
      "metadata": {},
      "cell_type": "markdown",
      "source": "**Таблица наличия/отсутствия методов для основных алгоритмов машинного обучения:**"
    },
    {
      "metadata": {},
      "cell_type": "markdown",
      "source": "<table>\n\t<thead>\n\t\t<tr>\n\t\t\t<th>Методы класса</th>\n\t\t\t<th>kNN</th>\n\t\t\t<th>LDA</th>\n\t\t\t<th>QDA</th>\n\t\t\t<th>Logistic</th>\n\t\t\t<th>SVC</th>\n\t\t\t<th>Tree</th>\n\t\t\t<th>RF</th>\n\t\t\t<th>AdaBoost</th>\n\t\t\t<th>GBT</th>\n\t\t</tr>\n\t</thead>\n\t<tbody>\n\t\t<tr>\n\t\t\t<td><code>fit(X, y)</code></td>\n\t\t\t<td>+</td>\n\t\t\t<td>+</td>\n\t\t\t<td>+</td>\n\t\t\t<td>+</td>\n\t\t\t<td>+</td>\n\t\t\t<td>+</td>\n\t\t\t<td>+</td>\n\t\t\t<td>+</td>\n\t\t\t<td>+</td>\n\t\t</tr>\n\t\t<tr>\n\t\t\t<td><code>predict(X)</code></td>\n\t\t\t<td>+</td>\n\t\t\t<td>+</td>\n\t\t\t<td>+</td>\n\t\t\t<td>+</td>\n\t\t\t<td>+</td>\n\t\t\t<td>+</td>\n\t\t\t<td>+</td>\n\t\t\t<td>+</td>\n\t\t\t<td>+</td>\n\t\t</tr>\n\t\t<tr>\n\t\t\t<td><code>predict_proba(X)</code></td>\n\t\t\t<td>+</td>\n\t\t\t<td>+</td>\n\t\t\t<td>+</td>\n\t\t\t<td>+</td>\n\t\t\t<td>&nbsp;</td>\n\t\t\t<td>+</td>\n\t\t\t<td>+</td>\n\t\t\t<td>+</td>\n\t\t\t<td>+</td>\n\t\t</tr>\n\t\t<tr>\n\t\t\t<td><code>predict_log_proba(X)</code></td>\n\t\t\t<td>&nbsp;</td>\n\t\t\t<td>+</td>\n\t\t\t<td>+</td>\n\t\t\t<td>+</td>\n\t\t\t<td>&nbsp;</td>\n\t\t\t<td>+</td>\n\t\t\t<td>+</td>\n\t\t\t<td>+</td>\n\t\t\t<td>+</td>\n\t\t</tr>\n\t\t<tr>\n\t\t\t<td><code>score(X, y)</code></td>\n\t\t\t<td>+</td>\n\t\t\t<td>+</td>\n\t\t\t<td>+</td>\n\t\t\t<td>+</td>\n\t\t\t<td>+</td>\n\t\t\t<td>+</td>\n\t\t\t<td>+</td>\n\t\t\t<td>+</td>\n\t\t\t<td>+</td>\n\t\t</tr>\n\t\t<tr>\n\t\t\t<td><code>decision_function(X)</code></td>\n\t\t\t<td>&nbsp;</td>\n\t\t\t<td>+</td>\n\t\t\t<td>+</td>\n\t\t\t<td>+</td>\n\t\t\t<td>+</td>\n\t\t\t<td>&nbsp;</td>\n\t\t\t<td>&nbsp;</td>\n\t\t\t<td>+</td>\n\t\t\t<td>+</td>\n\t\t</tr>\n\t\t<tr>\n\t\t\t<td><code>transform(X)</code></td>\n\t\t\t<td>&nbsp;</td>\n\t\t\t<td>+</td>\n\t\t\t<td>&nbsp;</td>\n\t\t\t<td>+</td>\n\t\t\t<td>&nbsp;</td>\n\t\t\t<td>+</td>\n\t\t\t<td>+</td>\n\t\t\t<td>&nbsp;</td>\n\t\t\t<td>+</td>\n\t\t</tr>\n\t\t<tr>\n\t\t\t<td><code>staged_decision_function(X)</code></td>\n\t\t\t<td>&nbsp;</td>\n\t\t\t<td>&nbsp;</td>\n\t\t\t<td>&nbsp;</td>\n\t\t\t<td>&nbsp;</td>\n\t\t\t<td>&nbsp;</td>\n\t\t\t<td>&nbsp;</td>\n\t\t\t<td>&nbsp;</td>\n\t\t\t<td>+</td>\n\t\t\t<td>+</td>\n\t\t</tr>\n\t\t<tr>\n\t\t\t<td><code>staged_predict(X)</code></td>\n\t\t\t<td>&nbsp;</td>\n\t\t\t<td>&nbsp;</td>\n\t\t\t<td>&nbsp;</td>\n\t\t\t<td>&nbsp;</td>\n\t\t\t<td>&nbsp;</td>\n\t\t\t<td>&nbsp;</td>\n\t\t\t<td>&nbsp;</td>\n\t\t\t<td>+</td>\n\t\t\t<td>+</td>\n\t\t</tr>\n\t\t<tr>\n\t\t\t<td><code>staged_predict_proba(X)</code></td>\n\t\t\t<td>&nbsp;</td>\n\t\t\t<td>&nbsp;</td>\n\t\t\t<td>&nbsp;</td>\n\t\t\t<td>&nbsp;</td>\n\t\t\t<td>&nbsp;</td>\n\t\t\t<td>&nbsp;</td>\n\t\t\t<td>&nbsp;</td>\n\t\t\t<td>+</td>\n\t\t\t<td>+</td>\n\t\t</tr>\n\t\t<tr>\n\t\t\t<td><code>staged_score(X, y)</code></td>\n\t\t\t<td>&nbsp;</td>\n\t\t\t<td>&nbsp;</td>\n\t\t\t<td>&nbsp;</td>\n\t\t\t<td>&nbsp;</td>\n\t\t\t<td>&nbsp;</td>\n\t\t\t<td>&nbsp;</td>\n\t\t\t<td>&nbsp;</td>\n\t\t\t<td>+</td>\n\t\t\t<td>+</td>\n\t\t</tr>\n\t\t<tr>\n\t\t\t<td><code>set_params(**params)</code></td>\n\t\t\t<td>+</td>\n\t\t\t<td>+</td>\n\t\t\t<td>+</td>\n\t\t\t<td>+</td>\n\t\t\t<td>+</td>\n\t\t\t<td>+</td>\n\t\t\t<td>+</td>\n\t\t\t<td>+</td>\n\t\t\t<td>+</td>\n\t\t</tr>\n\t\t<tr>\n\t\t\t<td><code>get_params()</code></td>\n\t\t\t<td>+</td>\n\t\t\t<td>+</td>\n\t\t\t<td>+</td>\n\t\t\t<td>+</td>\n\t\t\t<td>+</td>\n\t\t\t<td>+</td>\n\t\t\t<td>+</td>\n\t\t\t<td>+</td>\n\t\t\t<td>+</td>\n\t\t</tr>\n\t</tbody>\n</table>"
    },
    {
      "metadata": {},
      "cell_type": "markdown",
      "source": "## kNN – метод ближайших соседей"
    },
    {
      "metadata": {},
      "cell_type": "markdown",
      "source": "Начнем с одного из самых простых алгоритмов машинного обучения – метода kk ближайших соседей (kkNN).\n\nДля нового объекта алгоритм ищет в обучающей выборке kk наиболее близких объекта и относит новый объект к тому классу, которому принадлежит большинство из них."
    },
    {
      "metadata": {},
      "cell_type": "markdown",
      "source": "Количество соседей kk соответствует параметру n_neighbors. По умолчанию, n_neighbors = 5.\n\nВначале обучим модель:"
    },
    {
      "metadata": {
        "trusted": true
      },
      "cell_type": "code",
      "source": "from sklearn.neighbors import KNeighborsClassifier\n\nknn = KNeighborsClassifier()\nknn.fit(X_train, y_train)",
      "execution_count": 37,
      "outputs": [
        {
          "output_type": "execute_result",
          "execution_count": 37,
          "data": {
            "text/plain": "KNeighborsClassifier(algorithm='auto', leaf_size=30, metric='minkowski',\n           metric_params=None, n_jobs=1, n_neighbors=5, p=2,\n           weights='uniform')"
          },
          "metadata": {}
        }
      ]
    },
    {
      "metadata": {},
      "cell_type": "markdown",
      "source": "После того, как модель обучена, мы можем предсказывать значение целевого признака по входным признакам для новых объектов. Делается это с помощью метода predict."
    },
    {
      "metadata": {},
      "cell_type": "markdown",
      "source": "Нас интересует качество построенной модели, поэтому будем предсказывать значение выходного признака на тех данных, для которых оно известно: на обучающей и (что более важно) тестовой выборках:"
    },
    {
      "metadata": {
        "trusted": true
      },
      "cell_type": "code",
      "source": "y_train_predict = knn.predict(X_train)\ny_test_predict = knn.predict(X_test)\n\nerr_train = np.mean(y_train != y_train_predict)\nerr_test  = np.mean(y_test  != y_test_predict)\nprint(err_train, err_test)",
      "execution_count": 38,
      "outputs": [
        {
          "output_type": "stream",
          "text": "0.14699792960662525 0.16908212560386474\n",
          "name": "stdout"
        }
      ]
    },
    {
      "metadata": {},
      "cell_type": "markdown",
      "source": "err_train и err_test – это ошибки на обучающей и тестовой выборках. Как мы видим, они составили 14.7% и 16.9%."
    },
    {
      "metadata": {},
      "cell_type": "markdown",
      "source": "Для нас более важным является ошибка на тестовой выборке, так как мы должны уметь предсказывать правильное (по возможности) значение на новых объектах, которые при обучении были недоступны.\n\nПопробуем уменьшить тестовую ошибку, варьируя параметры метода.\n\nОсновной параметр метода kk ближайших соседей – это kk.\n\nПоиск оптимальных значений параметров можно осуществить с помощью класса GridSearchCV – поиск наилучшего набора параметров, доставляющих минимум ошибке перекрестного контроля (cross-validation). По умолчанию рассматривается 3-кратный перекрестный контроль.\n\nНапример, найдем наилучшее значение kk среди значений [1, 3, 5, 7, 10, 15]:"
    },
    {
      "metadata": {
        "trusted": true
      },
      "cell_type": "code",
      "source": "from sklearn.grid_search import GridSearchCV\nn_neighbors_array = [1, 3, 5, 7, 10, 15]\nknn = KNeighborsClassifier()\ngrid = GridSearchCV(knn, param_grid={'n_neighbors': n_neighbors_array})\ngrid.fit(X_train, y_train)\n\nbest_cv_err = 1 - grid.best_score_\nbest_n_neighbors = grid.best_estimator_.n_neighbors\nprint(best_cv_err, best_n_neighbors)",
      "execution_count": 39,
      "outputs": [
        {
          "output_type": "stream",
          "text": "/home/nbuser/anaconda3_420/lib/python3.5/site-packages/sklearn/grid_search.py:42: DeprecationWarning: This module was deprecated in version 0.18 in favor of the model_selection module into which all the refactored classes and functions are moved. This module will be removed in 0.20.\n  DeprecationWarning)\n",
          "name": "stderr"
        },
        {
          "output_type": "stream",
          "text": "0.20703933747412007 7\n",
          "name": "stdout"
        }
      ]
    },
    {
      "metadata": {},
      "cell_type": "markdown",
      "source": "В качестве оптимального метод выбрал значение kk равное 7. Ошибка перекрестного контроля составила 20.7%, что даже больше ошибки на тестовой выборке для 5 ближайших соседей. Это может быть обусленно тем, что для построения моделей в рамках схемы перекрестного контроля используются не все данные.\n\nПроверим, чему равны ошибки на обучающей и тестовой выборках при этом значении параметра"
    },
    {
      "metadata": {
        "trusted": true
      },
      "cell_type": "code",
      "source": "knn = KNeighborsClassifier(n_neighbors=best_n_neighbors)\nknn.fit(X_train, y_train)\n\nerr_train = np.mean(y_train != knn.predict(X_train))\nerr_test  = np.mean(y_test  != knn.predict(X_test))\nprint(err_train, err_test)",
      "execution_count": 40,
      "outputs": [
        {
          "output_type": "stream",
          "text": "0.15113871635610765 0.1642512077294686\n",
          "name": "stdout"
        }
      ]
    },
    {
      "metadata": {},
      "cell_type": "markdown",
      "source": "Как видим, метод ближайших соседей на этой задаче дает не слишком удовлетворительные результаты."
    },
    {
      "metadata": {},
      "cell_type": "markdown",
      "source": "## SVC – машина опорных векторов"
    },
    {
      "metadata": {},
      "cell_type": "markdown",
      "source": "Следующий метод, который мы попробуем – машина опорных векторов (SVM – support vector machine или SVC – support vector classifier) – сразу приводит к более оптимистичным результатам.\n\nУже со значением параметров по умолчанию (в частности, ядро – радиальное rbf) получаем более низкую ошибку на обучающей выборке:"
    },
    {
      "metadata": {
        "trusted": true
      },
      "cell_type": "code",
      "source": "from sklearn.svm import SVC\nsvc = SVC()\nsvc.fit(X_train, y_train)\n\nerr_train = np.mean(y_train != svc.predict(X_train))\nerr_test  = np.mean(y_test  != svc.predict(X_test))\nprint(err_train, err_test)",
      "execution_count": 41,
      "outputs": [
        {
          "output_type": "stream",
          "text": "0.14492753623188406 0.13043478260869565\n",
          "name": "stdout"
        }
      ]
    },
    {
      "metadata": {},
      "cell_type": "markdown",
      "source": "Итак, на тестовой выборке получили ошибку в 13%.\n\nС помощью подбора параметров попробуем ее еще уменьшить."
    },
    {
      "metadata": {},
      "cell_type": "markdown",
      "source": "#### Радиальное ядро"
    },
    {
      "metadata": {},
      "cell_type": "markdown",
      "source": "Вначале попробуем найти лучшие значения параметров для радиального ядра."
    },
    {
      "metadata": {
        "trusted": true
      },
      "cell_type": "code",
      "source": "from sklearn.grid_search import GridSearchCV\nC_array = np.logspace(-3, 3, num=7)\ngamma_array = np.logspace(-5, 2, num=8)\nsvc = SVC(kernel='rbf')\ngrid = GridSearchCV(svc, param_grid={'C': C_array, 'gamma': gamma_array})\ngrid.fit(X_train, y_train)\nprint('CV error    = ', 1 - grid.best_score_)\nprint('best C      = ', grid.best_estimator_.C)\nprint('best gamma  = ', grid.best_estimator_.gamma)",
      "execution_count": 42,
      "outputs": [
        {
          "output_type": "stream",
          "text": "CV error    =  0.13871635610766042\nbest C      =  1.0\nbest gamma  =  0.01\n",
          "name": "stdout"
        }
      ]
    },
    {
      "metadata": {},
      "cell_type": "markdown",
      "source": "Получили ошибку перекрестного контроля в 13.9%.\n\nПосмотрим, чему равна ошибка на тестовой выборке при найденных значениях параметров алгоритма:"
    },
    {
      "metadata": {
        "trusted": true
      },
      "cell_type": "code",
      "source": "svc = SVC(kernel='rbf', C=grid.best_estimator_.C, gamma=grid.best_estimator_.gamma)\nsvc.fit(X_train, y_train)\n\nerr_train = np.mean(y_train != svc.predict(X_train))\nerr_test  = np.mean(y_test  != svc.predict(X_test))\nprint(err_train, err_test)",
      "execution_count": 43,
      "outputs": [
        {
          "output_type": "stream",
          "text": "0.13457556935817805 0.1111111111111111\n",
          "name": "stdout"
        }
      ]
    },
    {
      "metadata": {},
      "cell_type": "markdown",
      "source": "Ошибка на тестовой выборке равна 11.1%. Заметно лучше, чем kNN!"
    },
    {
      "metadata": {},
      "cell_type": "markdown",
      "source": "#### Линейное ядро"
    },
    {
      "metadata": {},
      "cell_type": "markdown",
      "source": "Теперь рассмотрим линейное ядро."
    },
    {
      "metadata": {
        "trusted": true
      },
      "cell_type": "code",
      "source": "from sklearn.grid_search import GridSearchCV\nC_array = np.logspace(-3, 3, num=7)\nsvc = SVC(kernel='linear')\ngrid = GridSearchCV(svc, param_grid={'C': C_array})\ngrid.fit(X_train, y_train)\nprint('CV error    = ', 1 - grid.best_score_)\nprint('best C      = ', grid.best_estimator_.C)",
      "execution_count": 44,
      "outputs": [
        {
          "output_type": "stream",
          "text": "CV error    =  0.15113871635610765\nbest C      =  0.1\n",
          "name": "stdout"
        }
      ]
    },
    {
      "metadata": {},
      "cell_type": "markdown",
      "source": "Получили ошибку перекрестного контроля в 15.1%.\n\nПосмотрим, чему равна ошибка на тестовой выборке при найденных значениях параметров алгоритма:"
    },
    {
      "metadata": {
        "trusted": true
      },
      "cell_type": "code",
      "source": "svc = SVC(kernel='linear', C=grid.best_estimator_.C)\nsvc.fit(X_train, y_train)\n\nerr_train = np.mean(y_train != svc.predict(X_train))\nerr_test  = np.mean(y_test  != svc.predict(X_test))\nprint(err_train, err_test)",
      "execution_count": 45,
      "outputs": [
        {
          "output_type": "stream",
          "text": "0.15113871635610765 0.12560386473429952\n",
          "name": "stdout"
        }
      ]
    },
    {
      "metadata": {},
      "cell_type": "markdown",
      "source": "Ошибка на тестовой выборке составила 12.6%."
    },
    {
      "metadata": {},
      "cell_type": "markdown",
      "source": "#### Полиномиальное ядро"
    },
    {
      "metadata": {},
      "cell_type": "markdown",
      "source": "Попробуем также полиномиальное ядро:"
    },
    {
      "metadata": {
        "trusted": true
      },
      "cell_type": "code",
      "source": "from sklearn.grid_search import GridSearchCV\nC_array = np.logspace(-5, 2, num=8)\ngamma_array = np.logspace(-5, 2, num=8)\ndegree_array = [2, 3, 4]\nsvc = SVC(kernel='poly')\ngrid = GridSearchCV(svc, param_grid={'C': C_array, 'gamma': gamma_array, 'degree': degree_array})\ngrid.fit(X_train, y_train)\nprint('CV error    = ', 1 - grid.best_score_)\nprint('best C      = ', grid.best_estimator_.C)\nprint('best gamma  = ', grid.best_estimator_.gamma)\nprint('best degree = ', grid.best_estimator_.degree)",
      "execution_count": 46,
      "outputs": [
        {
          "output_type": "stream",
          "text": "CV error    =  0.13871635610766042\nbest C      =  0.0001\nbest gamma  =  10.0\nbest degree =  2\n",
          "name": "stdout"
        }
      ]
    },
    {
      "metadata": {},
      "cell_type": "markdown",
      "source": "Получили ошибку перекрестного контроля в 13.9%.\n\nПосмотрим, чему равна ошибка на тестовой выборке при найденных значениях параметров алгоритма:"
    },
    {
      "metadata": {
        "trusted": true
      },
      "cell_type": "code",
      "source": "svc = SVC(kernel='poly', C=grid.best_estimator_.C, \n          gamma=grid.best_estimator_.gamma, degree=grid.best_estimator_.degree)\nsvc.fit(X_train, y_train)\n\nerr_train = np.mean(y_train != svc.predict(X_train))\nerr_test  = np.mean(y_test  != svc.predict(X_test))\nprint(err_train, err_test)",
      "execution_count": 47,
      "outputs": [
        {
          "output_type": "stream",
          "text": "0.09730848861283643 0.12077294685990338\n",
          "name": "stdout"
        }
      ]
    },
    {
      "metadata": {},
      "cell_type": "markdown",
      "source": "Ошибка на тестовой выборке составила 12.1%."
    },
    {
      "metadata": {},
      "cell_type": "markdown",
      "source": "## Random Forest – случайный лес"
    },
    {
      "metadata": {},
      "cell_type": "markdown",
      "source": "Воспользуемся одним из самых популярных алгоритмов машинного обучения – случайный лес – Random Forest.\n\nАлгоритм строит ансамбль случайных деревьев, каждое из которых обучается на выборке, полученной из исходной с помощью процедуры изъятия с возвращением."
    },
    {
      "metadata": {
        "trusted": true
      },
      "cell_type": "code",
      "source": "from sklearn import ensemble\nrf = ensemble.RandomForestClassifier(n_estimators=100, random_state=11)\nrf.fit(X_train, y_train)\n\nerr_train = np.mean(y_train != rf.predict(X_train))\nerr_test  = np.mean(y_test  != rf.predict(X_test))\nprint(err_train, err_test)",
      "execution_count": 48,
      "outputs": [
        {
          "output_type": "stream",
          "text": "/home/nbuser/anaconda3_420/lib/python3.5/site-packages/sklearn/ensemble/weight_boosting.py:29: DeprecationWarning: numpy.core.umath_tests is an internal NumPy module and should not be imported. It will be removed in a future NumPy release.\n  from numpy.core.umath_tests import inner1d\n",
          "name": "stderr"
        },
        {
          "output_type": "stream",
          "text": "0.0 0.10144927536231885\n",
          "name": "stdout"
        }
      ]
    },
    {
      "metadata": {},
      "cell_type": "markdown",
      "source": "Итак, ошибка на тестовой выборке составила 10%."
    },
    {
      "metadata": {},
      "cell_type": "markdown",
      "source": "### Отбор признаков (Feature Selection) с помощью алгоритма случайного леса"
    },
    {
      "metadata": {},
      "cell_type": "markdown",
      "source": "Одной из важных процедур предобработки данных в алгоритмах их анализа является отбор значимых признаков. Его цель заключается в том, чтобы отобрать наиболее существенные признаки для решения рассматриваемой задачи классификации.\n\nОтбор признаков необходим для следующих целей:\n\n- Для лучшего понимания задачи. Человеку легче разобраться с небольшим количеством признаков, чем с огромным их количеством.\n- Для ускорения алгоритмов.\n- Для улучшения качества предсказания. Устранение шумовых признаков может уменьшить ошибку алгоритма на тестовой выборке, т.е. улучшить качество предсказания.\n\nОтбор значимых признаков осуществляется как «вручную» — на основе анализа содержательной постановки задачи, так и «автоматически» — с помощью универсальных алгоритмов.\n\nОтбор признаков «вручную» (как и «ручной» синтез новых признаков) — важный этап в анализе данных. К сожалению, нам не известны содержательные значения используемых в рассматриваемой задаче признаков, поэтому ограничимся только их автоматическим отбором. Для этого существует много различных алгоритмов. Рассмотрим только один из них – с помощью случайного леса.\n\nВсе, что нужно сделать, – это после вызова метода predict для случайного леса прочитать поле feature_importances_. Для каждого признака это поле содержит число, выражающее «важность» этого признака. Чем больше число, тем значимее признак. Сумма всех чисел равна 1.\n\nУпорядочим значимости и выведем их значения:"
    },
    {
      "metadata": {
        "scrolled": true,
        "trusted": true
      },
      "cell_type": "code",
      "source": "importances = rf.feature_importances_\nindices = np.argsort(importances)[::-1]\n\nprint(\"Feature importances:\")\nfor f, idx in enumerate(indices):\n    print(\"{:2d}. feature '{:5s}' ({:.4f})\".format(f + 1, feature_names[idx], importances[idx]))",
      "execution_count": 49,
      "outputs": [
        {
          "output_type": "stream",
          "text": "Feature importances:\n 1. feature 'A9   ' (0.2269)\n 2. feature 'A8   ' (0.1020)\n 3. feature 'A11  ' (0.0816)\n 4. feature 'A15  ' (0.0813)\n 5. feature 'A3   ' (0.0791)\n 6. feature 'A14  ' (0.0730)\n 7. feature 'A2   ' (0.0672)\n 8. feature 'A10  ' (0.0649)\n 9. feature 'A6_x ' (0.0155)\n10. feature 'A7_h ' (0.0141)\n11. feature 'A12  ' (0.0139)\n12. feature 'A1   ' (0.0133)\n13. feature 'A7_v ' (0.0122)\n14. feature 'A6_q ' (0.0116)\n15. feature 'A6_k ' (0.0110)\n16. feature 'A5_p ' (0.0104)\n17. feature 'A13_g' (0.0100)\n18. feature 'A6_w ' (0.0099)\n19. feature 'A6_ff' (0.0093)\n20. feature 'A5_g ' (0.0087)\n21. feature 'A6_c ' (0.0079)\n22. feature 'A4_u ' (0.0075)\n23. feature 'A4_y ' (0.0071)\n24. feature 'A7_bb' (0.0071)\n25. feature 'A13_s' (0.0070)\n26. feature 'A6_cc' (0.0067)\n27. feature 'A6_i ' (0.0059)\n28. feature 'A7_ff' (0.0058)\n29. feature 'A6_aa' (0.0047)\n30. feature 'A6_m ' (0.0037)\n31. feature 'A6_e ' (0.0035)\n32. feature 'A13_p' (0.0035)\n33. feature 'A6_d ' (0.0031)\n34. feature 'A7_j ' (0.0022)\n35. feature 'A7_n ' (0.0021)\n36. feature 'A4_l ' (0.0016)\n37. feature 'A7_dd' (0.0012)\n38. feature 'A7_z ' (0.0012)\n39. feature 'A5_gg' (0.0011)\n40. feature 'A6_j ' (0.0007)\n41. feature 'A6_r ' (0.0004)\n42. feature 'A7_o ' (0.0000)\n",
          "name": "stdout"
        }
      ]
    },
    {
      "metadata": {},
      "cell_type": "markdown",
      "source": "Построим столбцовую диаграмму, графически представляющую значимость первых 20 признаков:"
    },
    {
      "metadata": {
        "trusted": true
      },
      "cell_type": "code",
      "source": "d_first = 20\nplt.figure(figsize=(8, 8))\nplt.title(\"Feature importances\")\nplt.bar(range(d_first), importances[indices[:d_first]], align='center')\nplt.xticks(range(d_first), np.array(feature_names)[indices[:d_first]], rotation=90)\nplt.xlim([-1, d_first]);",
      "execution_count": 50,
      "outputs": [
        {
          "output_type": "display_data",
          "data": {
            "image/png": "[encoded data removed]",
            "text/plain": "<matplotlib.figure.Figure at 0x7fb7283e6a90>"
          },
          "metadata": {}
        }
      ]
    },
    {
      "metadata": {
        "trusted": true
      },
      "cell_type": "code",
      "source": "best_features = indices[:8]\nbest_features_names = feature_names[best_features]\nprint(best_features_names)",
      "execution_count": 51,
      "outputs": [
        {
          "output_type": "stream",
          "text": "Index(['A9', 'A8', 'A11', 'A15', 'A3', 'A14', 'A2', 'A10'], dtype='object')\n",
          "name": "stdout"
        }
      ]
    },
    {
      "metadata": {},
      "cell_type": "markdown",
      "source": "Мы видим, что основную роль играют признаки A9, A8, A11, A15, A3, A14, A2, A10. Теперь можно попытаться использовать только эти признаки для обучения других моделей."
    },
    {
      "metadata": {},
      "cell_type": "markdown",
      "source": "## GBT – градиентный бустинг деревьев решений"
    },
    {
      "metadata": {},
      "cell_type": "markdown",
      "source": "GBT – еще один метод, строящий ансамбль деревьев решений. На каждой итерации строится новый классификатор, аппроксимирующий значение градиента функции потерь."
    },
    {
      "metadata": {
        "trusted": true
      },
      "cell_type": "code",
      "source": "from sklearn import ensemble\ngbt = ensemble.GradientBoostingClassifier(n_estimators=100, random_state=11)\ngbt.fit(X_train, y_train)\n\nerr_train = np.mean(y_train != gbt.predict(X_train))\nerr_test = np.mean(y_test != gbt.predict(X_test))\nprint(err_train, err_test)",
      "execution_count": 52,
      "outputs": [
        {
          "output_type": "stream",
          "text": "0.024844720496894408 0.10144927536231885\n",
          "name": "stdout"
        }
      ]
    },
    {
      "metadata": {},
      "cell_type": "markdown",
      "source": "Ошибка на тестовой выборке (10.1%).\n\nЗаметим, что при использовании найденных выше значимых признаков ошибка практически не меняется:"
    },
    {
      "metadata": {
        "trusted": true
      },
      "cell_type": "code",
      "source": "gbt = ensemble.GradientBoostingClassifier(n_estimators=100, random_state=11)\ngbt.fit(X_train[best_features_names], y_train)\n\nerr_train = np.mean(y_train != gbt.predict(X_train[best_features_names]))\nerr_test = np.mean(y_test != gbt.predict(X_test[best_features_names]))\nprint(err_train, err_test)",
      "execution_count": 53,
      "outputs": [
        {
          "output_type": "stream",
          "text": "0.035196687370600416 0.10628019323671498\n",
          "name": "stdout"
        }
      ]
    },
    {
      "metadata": {},
      "cell_type": "markdown",
      "source": "## Итоги"
    },
    {
      "metadata": {
        "trusted": true
      },
      "cell_type": "code",
      "source": "",
      "execution_count": null,
      "outputs": []
    },
    {
      "metadata": {
        "trusted": true
      },
      "cell_type": "code",
      "source": "",
      "execution_count": null,
      "outputs": []
    },
    {
      "metadata": {
        "trusted": true
      },
      "cell_type": "code",
      "source": "",
      "execution_count": null,
      "outputs": []
    },
    {
      "metadata": {
        "trusted": true
      },
      "cell_type": "code",
      "source": "",
      "execution_count": null,
      "outputs": []
    },
    {
      "metadata": {
        "trusted": true
      },
      "cell_type": "code",
      "source": "",
      "execution_count": null,
      "outputs": []
    }
  ],
  "metadata": {
    "language_info": {
      "mimetype": "text/x-python",
      "nbconvert_exporter": "python",
      "name": "python",
      "pygments_lexer": "ipython3",
      "version": "3.5.4",
      "file_extension": ".py",
      "codemirror_mode": {
        "version": 3,
        "name": "ipython"
      }
    },
    "name": "practice",
    "notebookId": 1417924126861154,
    "kernelspec": {
      "name": "python3",
      "display_name": "Python 3",
      "language": "python"
    },
    "anaconda-cloud": {}
  },
  "nbformat": 4,
  "nbformat_minor": 1
}